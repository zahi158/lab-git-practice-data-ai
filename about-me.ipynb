{
 "cells": [
  {
   "cell_type": "markdown",
   "metadata": {},
   "source": [
    "## About Me Lab: AI Engineering, Data Analytics & Data Science\n",
    "\n",
    "In this notebook, you'll write a short introduction about yourself using Python!\n",
    "\n",
    "### Instructions:\n",
    "- Fill in the variables below with your details.\n",
    "- Run the cell to print your introduction.\n",
    "\n",
    "### What to Include:\n",
    "- Your name.\n",
    "- Why you're interested in AI Engineering, Data Analytics or Data Science.\n",
    "- A fun fact about yourself or a goal for this course.\n"
   ]
  },
  {
   "cell_type": "code",
   "execution_count": 2,
   "metadata": {},
   "outputs": [
    {
     "name": "stdout",
     "output_type": "stream",
     "text": [
      "Hi! My name is Alejandro Zahinos. I’m excited to learn because I think AI are a very usefull tool that helps you do a lot of things in a much easier way. A fun fact about me is: I would love to find the way to study things more by myself, for example, if I want to learn unity and how to use it instead of having to do a curse find the way to learn by my self.\n"
     ]
    }
   ],
   "source": [
    "# About Me\n",
    "# Please fill in the following details.\n",
    "\n",
    "name = \"Alejandro Zahinos\"\n",
    "reason = \"I think AI are a very usefull tool that helps you do a lot of things in a much easier way\"\n",
    "fun_fact = \"I would love to find the way to study things more by myself, for example, if I want to learn unity and how to use it instead of having to do a curse find the way to learn by my self\"\n",
    "\n",
    "print(f\"Hi! My name is {name}. I’m excited to learn because {reason}. A fun fact about me is: {fun_fact}.\")"
   ]
  },
  {
   "cell_type": "code",
   "execution_count": null,
   "metadata": {},
   "outputs": [],
   "source": []
  }
 ],
 "metadata": {
  "kernelspec": {
   "display_name": "Python [conda env:base] *",
   "language": "python",
   "name": "conda-base-py"
  },
  "language_info": {
   "codemirror_mode": {
    "name": "ipython",
    "version": 3
   },
   "file_extension": ".py",
   "mimetype": "text/x-python",
   "name": "python",
   "nbconvert_exporter": "python",
   "pygments_lexer": "ipython3",
   "version": "3.12.7"
  }
 },
 "nbformat": 4,
 "nbformat_minor": 4
}
